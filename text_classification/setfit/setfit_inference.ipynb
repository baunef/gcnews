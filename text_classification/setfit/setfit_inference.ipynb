{
 "cells": [
  {
   "cell_type": "markdown",
   "id": "9a8ae5ee",
   "metadata": {},
   "source": [
    "This `Jupyter` notebook contains an inference pipeline to generate labels or predictions for text data with the `setfit`model."
   ]
  },
  {
   "cell_type": "code",
   "execution_count": 1,
   "id": "63b534f6",
   "metadata": {},
   "outputs": [
    {
     "name": "stderr",
     "output_type": "stream",
     "text": [
      "C:\\Users\\ferdi\\.conda\\envs\\setfit\\lib\\site-packages\\tqdm\\auto.py:21: TqdmWarning: IProgress not found. Please update jupyter and ipywidgets. See https://ipywidgets.readthedocs.io/en/stable/user_install.html\n",
      "  from .autonotebook import tqdm as notebook_tqdm\n"
     ]
    }
   ],
   "source": [
    "import pandas as pd\n",
    "import numpy as np\n",
    "\n",
    "from sentence_transformers import SentenceTransformer, InputExample, losses, models, datasets, evaluation\n",
    "\n",
    "from setfit import SetFitModel\n",
    "\n",
    "from sklearn.metrics import classification_report, accuracy_score\n",
    "from sklearn.model_selection import train_test_split"
   ]
  },
  {
   "cell_type": "markdown",
   "id": "a291ebea",
   "metadata": {},
   "source": [
    "# Data"
   ]
  },
  {
   "cell_type": "code",
   "execution_count": 2,
   "id": "e1ca292a",
   "metadata": {},
   "outputs": [],
   "source": [
    "test_data = pd.read_csv(\"../../data/gc_news_test_sample.csv\")"
   ]
  },
  {
   "cell_type": "markdown",
   "id": "d063d46f",
   "metadata": {},
   "source": [
    "# Prepare Model"
   ]
  },
  {
   "cell_type": "code",
   "execution_count": 2,
   "id": "8c4f3d82",
   "metadata": {},
   "outputs": [
    {
     "name": "stderr",
     "output_type": "stream",
     "text": [
      "C:\\Users\\ferdi\\.conda\\envs\\setfit\\lib\\site-packages\\sklearn\\base.py:348: InconsistentVersionWarning: Trying to unpickle estimator LogisticRegression from version 1.2.2 when using version 1.3.1. This might lead to breaking code or invalid results. Use at your own risk. For more info please refer to:\n",
      "https://scikit-learn.org/stable/model_persistence.html#security-maintainability-limitations\n",
      "  warnings.warn(\n"
     ]
    }
   ],
   "source": [
    "model = SetFitModel._from_pretrained(\"baunef/PopFit\")\n",
    "\n",
    "# Uncomment to use local model\n",
    "# model = SetFitModel._from_pretrained(\"./path/to/local/model/\", local_files_only=True)"
   ]
  },
  {
   "cell_type": "markdown",
   "id": "dd188fa7",
   "metadata": {},
   "source": [
    "# Inference"
   ]
  },
  {
   "cell_type": "code",
   "execution_count": 6,
   "id": "26f3bcfd",
   "metadata": {},
   "outputs": [
    {
     "data": {
      "text/html": [
       "<div>\n",
       "<style scoped>\n",
       "    .dataframe tbody tr th:only-of-type {\n",
       "        vertical-align: middle;\n",
       "    }\n",
       "\n",
       "    .dataframe tbody tr th {\n",
       "        vertical-align: top;\n",
       "    }\n",
       "\n",
       "    .dataframe thead th {\n",
       "        text-align: right;\n",
       "    }\n",
       "</style>\n",
       "<table border=\"1\" class=\"dataframe\">\n",
       "  <thead>\n",
       "    <tr style=\"text-align: right;\">\n",
       "      <th></th>\n",
       "      <th>Title</th>\n",
       "      <th>Length</th>\n",
       "      <th>Date</th>\n",
       "      <th>Source</th>\n",
       "      <th>Content</th>\n",
       "      <th>Author</th>\n",
       "      <th>setfit_preds</th>\n",
       "    </tr>\n",
       "  </thead>\n",
       "  <tbody>\n",
       "    <tr>\n",
       "      <th>0</th>\n",
       "      <td>KOMMENTAR; Öffnet jetzt für Geimpfte!</td>\n",
       "      <td>9</td>\n",
       "      <td>2021-04-06</td>\n",
       "      <td>BILD</td>\n",
       "      <td>Der Lockdown muss für Geimpfte enden. Und zwar...</td>\n",
       "      <td>Willi Haentjes</td>\n",
       "      <td>0</td>\n",
       "    </tr>\n",
       "    <tr>\n",
       "      <th>1</th>\n",
       "      <td>KOMMENTAR; Öffnet jetzt für Geimpfte!</td>\n",
       "      <td>25</td>\n",
       "      <td>2021-04-06</td>\n",
       "      <td>BILD</td>\n",
       "      <td>Wer die zwei schützenden Pikse bekommen hat, s...</td>\n",
       "      <td>Willi Haentjes</td>\n",
       "      <td>0</td>\n",
       "    </tr>\n",
       "    <tr>\n",
       "      <th>2</th>\n",
       "      <td>KOMMENTAR; Öffnet jetzt für Geimpfte!</td>\n",
       "      <td>16</td>\n",
       "      <td>2021-04-06</td>\n",
       "      <td>BILD</td>\n",
       "      <td>Deshalb hat der Staat kein Recht, die Freiheit...</td>\n",
       "      <td>Willi Haentjes</td>\n",
       "      <td>1</td>\n",
       "    </tr>\n",
       "    <tr>\n",
       "      <th>3</th>\n",
       "      <td>KOMMENTAR; Öffnet jetzt für Geimpfte!</td>\n",
       "      <td>19</td>\n",
       "      <td>2021-04-06</td>\n",
       "      <td>BILD</td>\n",
       "      <td>Seit einem Jahr fordert die Regierung von uns ...</td>\n",
       "      <td>Willi Haentjes</td>\n",
       "      <td>0</td>\n",
       "    </tr>\n",
       "    <tr>\n",
       "      <th>4</th>\n",
       "      <td>KOMMENTAR; Öffnet jetzt für Geimpfte!</td>\n",
       "      <td>13</td>\n",
       "      <td>2021-04-06</td>\n",
       "      <td>BILD</td>\n",
       "      <td>Jetzt ist auch eine neue Form der Solidarität ...</td>\n",
       "      <td>Willi Haentjes</td>\n",
       "      <td>1</td>\n",
       "    </tr>\n",
       "  </tbody>\n",
       "</table>\n",
       "</div>"
      ],
      "text/plain": [
       "                                   Title  Length        Date Source  \\\n",
       "0  KOMMENTAR; Öffnet jetzt für Geimpfte!       9  2021-04-06   BILD   \n",
       "1  KOMMENTAR; Öffnet jetzt für Geimpfte!      25  2021-04-06   BILD   \n",
       "2  KOMMENTAR; Öffnet jetzt für Geimpfte!      16  2021-04-06   BILD   \n",
       "3  KOMMENTAR; Öffnet jetzt für Geimpfte!      19  2021-04-06   BILD   \n",
       "4  KOMMENTAR; Öffnet jetzt für Geimpfte!      13  2021-04-06   BILD   \n",
       "\n",
       "                                             Content          Author  \\\n",
       "0  Der Lockdown muss für Geimpfte enden. Und zwar...  Willi Haentjes   \n",
       "1  Wer die zwei schützenden Pikse bekommen hat, s...  Willi Haentjes   \n",
       "2  Deshalb hat der Staat kein Recht, die Freiheit...  Willi Haentjes   \n",
       "3  Seit einem Jahr fordert die Regierung von uns ...  Willi Haentjes   \n",
       "4  Jetzt ist auch eine neue Form der Solidarität ...  Willi Haentjes   \n",
       "\n",
       "   setfit_preds  \n",
       "0             0  \n",
       "1             0  \n",
       "2             1  \n",
       "3             0  \n",
       "4             1  "
      ]
     },
     "execution_count": 6,
     "metadata": {},
     "output_type": "execute_result"
    }
   ],
   "source": [
    "test_data = pd.read_csv(\"../../data/gc_news_test_sample.csv\", index_col=0)\n",
    "par_data.head()"
   ]
  },
  {
   "cell_type": "code",
   "execution_count": 10,
   "id": "19f8348f",
   "metadata": {},
   "outputs": [
    {
     "name": "stdout",
     "output_type": "stream",
     "text": [
      "nan\n"
     ]
    },
    {
     "ename": "TypeError",
     "evalue": "slice indices must be integers or None or have an __index__ method",
     "output_type": "error",
     "traceback": [
      "\u001b[1;31m---------------------------------------------------------------------------\u001b[0m",
      "\u001b[1;31mTypeError\u001b[0m                                 Traceback (most recent call last)",
      "Cell \u001b[1;32mIn[10], line 4\u001b[0m\n\u001b[0;32m      1\u001b[0m start \u001b[38;5;241m=\u001b[39m par_data[par_data\u001b[38;5;241m.\u001b[39msetfit_preds \u001b[38;5;241m==\u001b[39m \u001b[38;5;241m-\u001b[39m\u001b[38;5;241m1\u001b[39m]\u001b[38;5;241m.\u001b[39mindex\u001b[38;5;241m.\u001b[39mmin()\n\u001b[0;32m      2\u001b[0m \u001b[38;5;28mprint\u001b[39m(start)\n\u001b[1;32m----> 4\u001b[0m my_index \u001b[38;5;241m=\u001b[39m \u001b[43mpar_data\u001b[49m\u001b[38;5;241;43m.\u001b[39;49m\u001b[43mindex\u001b[49m\u001b[43m[\u001b[49m\u001b[43mstart\u001b[49m\u001b[43m:\u001b[49m\u001b[43m]\u001b[49m\n\u001b[0;32m      6\u001b[0m \u001b[38;5;28mprint\u001b[39m(my_index[\u001b[38;5;241m0\u001b[39m])\n",
      "File \u001b[1;32m~\\.conda\\envs\\setfit\\lib\\site-packages\\pandas\\core\\indexes\\base.py:5370\u001b[0m, in \u001b[0;36mIndex.__getitem__\u001b[1;34m(self, key)\u001b[0m\n\u001b[0;32m   5365\u001b[0m     \u001b[38;5;28;01mreturn\u001b[39;00m getitem(key)\n\u001b[0;32m   5367\u001b[0m \u001b[38;5;28;01mif\u001b[39;00m \u001b[38;5;28misinstance\u001b[39m(key, \u001b[38;5;28mslice\u001b[39m):\n\u001b[0;32m   5368\u001b[0m     \u001b[38;5;66;03m# This case is separated from the conditional above to avoid\u001b[39;00m\n\u001b[0;32m   5369\u001b[0m     \u001b[38;5;66;03m# pessimization com.is_bool_indexer and ndim checks.\u001b[39;00m\n\u001b[1;32m-> 5370\u001b[0m     \u001b[38;5;28;01mreturn\u001b[39;00m \u001b[38;5;28;43mself\u001b[39;49m\u001b[38;5;241;43m.\u001b[39;49m\u001b[43m_getitem_slice\u001b[49m\u001b[43m(\u001b[49m\u001b[43mkey\u001b[49m\u001b[43m)\u001b[49m\n\u001b[0;32m   5372\u001b[0m \u001b[38;5;28;01mif\u001b[39;00m com\u001b[38;5;241m.\u001b[39mis_bool_indexer(key):\n\u001b[0;32m   5373\u001b[0m     \u001b[38;5;66;03m# if we have list[bools, length=1e5] then doing this check+convert\u001b[39;00m\n\u001b[0;32m   5374\u001b[0m     \u001b[38;5;66;03m#  takes 166 µs + 2.1 ms and cuts the ndarray.__getitem__\u001b[39;00m\n\u001b[0;32m   5375\u001b[0m     \u001b[38;5;66;03m#  time below from 3.8 ms to 496 µs\u001b[39;00m\n\u001b[0;32m   5376\u001b[0m     \u001b[38;5;66;03m# if we already have ndarray[bool], the overhead is 1.4 µs or .25%\u001b[39;00m\n\u001b[0;32m   5377\u001b[0m     \u001b[38;5;28;01mif\u001b[39;00m \u001b[38;5;28misinstance\u001b[39m(\u001b[38;5;28mgetattr\u001b[39m(key, \u001b[38;5;124m\"\u001b[39m\u001b[38;5;124mdtype\u001b[39m\u001b[38;5;124m\"\u001b[39m, \u001b[38;5;28;01mNone\u001b[39;00m), ExtensionDtype):\n",
      "File \u001b[1;32m~\\.conda\\envs\\setfit\\lib\\site-packages\\pandas\\core\\indexes\\base.py:5395\u001b[0m, in \u001b[0;36mIndex._getitem_slice\u001b[1;34m(self, slobj)\u001b[0m\n\u001b[0;32m   5391\u001b[0m \u001b[38;5;28;01mdef\u001b[39;00m \u001b[38;5;21m_getitem_slice\u001b[39m(\u001b[38;5;28mself\u001b[39m, slobj: \u001b[38;5;28mslice\u001b[39m) \u001b[38;5;241m-\u001b[39m\u001b[38;5;241m>\u001b[39m Self:\n\u001b[0;32m   5392\u001b[0m \u001b[38;5;250m    \u001b[39m\u001b[38;5;124;03m\"\"\"\u001b[39;00m\n\u001b[0;32m   5393\u001b[0m \u001b[38;5;124;03m    Fastpath for __getitem__ when we know we have a slice.\u001b[39;00m\n\u001b[0;32m   5394\u001b[0m \u001b[38;5;124;03m    \"\"\"\u001b[39;00m\n\u001b[1;32m-> 5395\u001b[0m     res \u001b[38;5;241m=\u001b[39m \u001b[38;5;28;43mself\u001b[39;49m\u001b[38;5;241;43m.\u001b[39;49m\u001b[43m_data\u001b[49m\u001b[43m[\u001b[49m\u001b[43mslobj\u001b[49m\u001b[43m]\u001b[49m\n\u001b[0;32m   5396\u001b[0m     result \u001b[38;5;241m=\u001b[39m \u001b[38;5;28mtype\u001b[39m(\u001b[38;5;28mself\u001b[39m)\u001b[38;5;241m.\u001b[39m_simple_new(res, name\u001b[38;5;241m=\u001b[39m\u001b[38;5;28mself\u001b[39m\u001b[38;5;241m.\u001b[39m_name, refs\u001b[38;5;241m=\u001b[39m\u001b[38;5;28mself\u001b[39m\u001b[38;5;241m.\u001b[39m_references)\n\u001b[0;32m   5397\u001b[0m     \u001b[38;5;28;01mif\u001b[39;00m \u001b[38;5;124m\"\u001b[39m\u001b[38;5;124m_engine\u001b[39m\u001b[38;5;124m\"\u001b[39m \u001b[38;5;129;01min\u001b[39;00m \u001b[38;5;28mself\u001b[39m\u001b[38;5;241m.\u001b[39m_cache:\n",
      "\u001b[1;31mTypeError\u001b[0m: slice indices must be integers or None or have an __index__ method"
     ]
    }
   ],
   "source": [
    "start = par_data[par_data.setfit_preds == -1].index.min()\n",
    "print(start)\n",
    "\n",
    "my_index = par_data.index[start:]\n",
    "\n",
    "print(my_index[0])\n",
    "#218090 "
   ]
  },
  {
   "cell_type": "code",
   "execution_count": 8,
   "id": "d7141b42",
   "metadata": {
    "scrolled": true
   },
   "outputs": [
    {
     "name": "stdout",
     "output_type": "stream",
     "text": [
      "Sample 341000 / 388093 processed\n",
      "Sample 342000 / 388093 processed\n",
      "Sample 343000 / 388093 processed\n",
      "Sample 344000 / 388093 processed\n",
      "Sample 345000 / 388093 processed\n",
      "Sample 346000 / 388093 processed\n",
      "Sample 347000 / 388093 processed\n",
      "Sample 348000 / 388093 processed\n",
      "Sample 349000 / 388093 processed\n",
      "Sample 350000 / 388093 processed\n",
      "Sample 351000 / 388093 processed\n",
      "Sample 352000 / 388093 processed\n",
      "Sample 353000 / 388093 processed\n",
      "Sample 354000 / 388093 processed\n",
      "Sample 355000 / 388093 processed\n",
      "Sample 356000 / 388093 processed\n",
      "Sample 357000 / 388093 processed\n",
      "Sample 358000 / 388093 processed\n",
      "Sample 359000 / 388093 processed\n",
      "Sample 360000 / 388093 processed\n",
      "Sample 361000 / 388093 processed\n",
      "Sample 362000 / 388093 processed\n",
      "Sample 363000 / 388093 processed\n",
      "Sample 364000 / 388093 processed\n",
      "Sample 365000 / 388093 processed\n",
      "Sample 366000 / 388093 processed\n",
      "Sample 367000 / 388093 processed\n",
      "Sample 368000 / 388093 processed\n",
      "Sample 369000 / 388093 processed\n",
      "Sample 370000 / 388093 processed\n",
      "Sample 371000 / 388093 processed\n",
      "Sample 372000 / 388093 processed\n",
      "Sample 373000 / 388093 processed\n",
      "Sample 374000 / 388093 processed\n",
      "Sample 375000 / 388093 processed\n",
      "Sample 376000 / 388093 processed\n",
      "Sample 377000 / 388093 processed\n",
      "Sample 378000 / 388093 processed\n",
      "Sample 379000 / 388093 processed\n",
      "Sample 380000 / 388093 processed\n",
      "Sample 381000 / 388093 processed\n",
      "Sample 382000 / 388093 processed\n",
      "Sample 383000 / 388093 processed\n",
      "Sample 384000 / 388093 processed\n",
      "Sample 385000 / 388093 processed\n",
      "Sample 386000 / 388093 processed\n",
      "Sample 387000 / 388093 processed\n",
      "Sample 388000 / 388093 processed\n"
     ]
    }
   ],
   "source": [
    "for i in my_index:\n",
    "    par_data.loc[i, 'setfit_preds'] = int(model([par_data.Content[i]]))\n",
    "    if not i % 1000:\n",
    "        print(\"Sample %d / %d processed\" % (i, len(par_texts)))"
   ]
  },
  {
   "cell_type": "code",
   "execution_count": 9,
   "id": "667163d8",
   "metadata": {},
   "outputs": [],
   "source": [
    "par_data.to_csv('./results/classified_data.csv')"
   ]
  },
  {
   "cell_type": "code",
   "execution_count": 12,
   "id": "d091013a",
   "metadata": {
    "scrolled": true
   },
   "outputs": [
    {
     "name": "stderr",
     "output_type": "stream",
     "text": [
      "Downloading .gitattributes: 100%|██████████| 1.52k/1.52k [00:00<00:00, 379kB/s]\n",
      "Downloading 1_Pooling/config.json: 100%|██████████| 191/191 [00:00<00:00, 47.7kB/s]\n",
      "Downloading README.md: 100%|██████████| 1.52k/1.52k [00:00<00:00, 379kB/s]\n",
      "Downloading added_tokens.json: 100%|██████████| 82.0/82.0 [00:00<?, ?B/s]\n",
      "Downloading config.json: 100%|██████████| 623/623 [00:00<?, ?B/s] \n",
      "Downloading (…)ce_transformers.json: 100%|██████████| 124/124 [00:00<00:00, 61.9kB/s]\n",
      "Downloading model_head.pkl: 100%|██████████| 4.96k/4.96k [00:00<00:00, 4.96MB/s]\n",
      "Downloading pytorch_model.bin: 100%|██████████| 1.34G/1.34G [07:15<00:00, 3.09MB/s]\n",
      "Downloading (…)nce_bert_config.json: 100%|██████████| 53.0/53.0 [00:00<00:00, 26.5kB/s]\n",
      "Downloading (…)cial_tokens_map.json: 100%|██████████| 228/228 [00:00<00:00, 76.0kB/s]\n",
      "Downloading tokenizer.json: 100%|██████████| 729k/729k [00:00<00:00, 1.70MB/s]\n",
      "Downloading tokenizer_config.json: 100%|██████████| 1.56k/1.56k [00:00<00:00, 778kB/s]\n",
      "Downloading vocab.txt: 100%|██████████| 240k/240k [00:00<00:00, 1.13MB/s]\n",
      "Downloading modules.json: 100%|██████████| 229/229 [00:00<00:00, 114kB/s]\n",
      "Special tokens have been added in the vocabulary, make sure the associated word embeddings are fine-tuned or trained.\n",
      "Downloading model_head.pkl: 100%|██████████| 4.96k/4.96k [00:00<00:00, 2.48MB/s]\n",
      "C:\\Users\\ferdi\\.conda\\envs\\setfit\\lib\\site-packages\\huggingface_hub\\file_download.py:137: UserWarning: `huggingface_hub` cache-system uses symlinks by default to efficiently store duplicated files but your machine does not support them in C:\\Users\\ferdi\\.cache\\huggingface\\hub. Caching files will still work but in a degraded version that might require more space on your disk. This warning can be disabled by setting the `HF_HUB_DISABLE_SYMLINKS_WARNING` environment variable. For more details, see https://huggingface.co/docs/huggingface_hub/how-to-cache#limitations.\n",
      "To support symlinks on Windows, you either need to activate Developer Mode or to run Python as an administrator. In order to see activate developer mode, see this article: https://docs.microsoft.com/en-us/windows/apps/get-started/enable-your-device-for-development\n",
      "  warnings.warn(message)\n"
     ]
    }
   ],
   "source": [
    "model = SetFitModel._from_pretrained(\"baunef/PopFit\")"
   ]
  },
  {
   "cell_type": "code",
   "execution_count": 18,
   "id": "8868f06e",
   "metadata": {},
   "outputs": [
    {
     "data": {
      "text/plain": [
       "tensor([0])"
      ]
     },
     "execution_count": 18,
     "metadata": {},
     "output_type": "execute_result"
    }
   ],
   "source": [
    "model([\"Schlag einfach mit ihm ein.\"])"
   ]
  },
  {
   "cell_type": "code",
   "execution_count": null,
   "id": "f770200b",
   "metadata": {},
   "outputs": [],
   "source": []
  }
 ],
 "metadata": {
  "kernelspec": {
   "display_name": "Python 3 (ipykernel)",
   "language": "python",
   "name": "python3"
  },
  "language_info": {
   "codemirror_mode": {
    "name": "ipython",
    "version": 3
   },
   "file_extension": ".py",
   "mimetype": "text/x-python",
   "name": "python",
   "nbconvert_exporter": "python",
   "pygments_lexer": "ipython3",
   "version": "3.9.18"
  }
 },
 "nbformat": 4,
 "nbformat_minor": 5
}
