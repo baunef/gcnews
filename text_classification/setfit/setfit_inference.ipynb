{
 "cells": [
  {
   "cell_type": "markdown",
   "id": "ce62a6bd",
   "metadata": {},
   "source": [
    "This `Jupyter` notebook contains an inference pipeline to generate labels or predictions for text data with the `setfit`model."
   ]
  },
  {
   "cell_type": "code",
   "execution_count": 1,
   "id": "63b534f6",
   "metadata": {},
   "outputs": [
    {
     "name": "stderr",
     "output_type": "stream",
     "text": [
      "C:\\Users\\ferdi\\.conda\\envs\\setfit\\lib\\site-packages\\tqdm\\auto.py:21: TqdmWarning: IProgress not found. Please update jupyter and ipywidgets. See https://ipywidgets.readthedocs.io/en/stable/user_install.html\n",
      "  from .autonotebook import tqdm as notebook_tqdm\n"
     ]
    }
   ],
   "source": [
    "import pandas as pd\n",
    "import numpy as np\n",
    "\n",
    "from sentence_transformers import SentenceTransformer, InputExample, losses, models, datasets, evaluation\n",
    "\n",
    "from setfit import SetFitModel\n",
    "\n",
    "from sklearn.metrics import classification_report, accuracy_score\n",
    "from sklearn.model_selection import train_test_split"
   ]
  },
  {
   "cell_type": "markdown",
   "id": "a291ebea",
   "metadata": {},
   "source": [
    "# Data"
   ]
  },
  {
   "cell_type": "code",
   "execution_count": 2,
   "id": "e1ca292a",
   "metadata": {},
   "outputs": [],
   "source": [
    "test_data = pd.read_csv(\"../../data/gc_news_test_sample.csv\")"
   ]
  },
  {
   "cell_type": "markdown",
   "id": "d063d46f",
   "metadata": {},
   "source": [
    "# Prepare Model"
   ]
  },
  {
   "cell_type": "code",
   "execution_count": 2,
   "id": "8c4f3d82",
   "metadata": {},
   "outputs": [
    {
     "name": "stderr",
     "output_type": "stream",
     "text": [
      "C:\\Users\\ferdi\\.conda\\envs\\setfit\\lib\\site-packages\\sklearn\\base.py:348: InconsistentVersionWarning: Trying to unpickle estimator LogisticRegression from version 1.2.2 when using version 1.3.1. This might lead to breaking code or invalid results. Use at your own risk. For more info please refer to:\n",
      "https://scikit-learn.org/stable/model_persistence.html#security-maintainability-limitations\n",
      "  warnings.warn(\n"
     ]
    }
   ],
   "source": [
    "model = SetFitModel._from_pretrained(\"baunef/PopFit\")\n",
    "\n",
    "# Uncomment to use local model\n",
    "# model = SetFitModel._from_pretrained(\"./path/to/local/model/\", local_files_only=True)"
   ]
  },
  {
   "cell_type": "markdown",
   "id": "dd188fa7",
   "metadata": {},
   "source": [
    "# Inference"
   ]
  },
  {
   "cell_type": "code",
   "execution_count": 6,
   "id": "26f3bcfd",
   "metadata": {},
   "outputs": [
    {
     "data": {
      "text/html": [
       "<div>\n",
       "<style scoped>\n",
       "    .dataframe tbody tr th:only-of-type {\n",
       "        vertical-align: middle;\n",
       "    }\n",
       "\n",
       "    .dataframe tbody tr th {\n",
       "        vertical-align: top;\n",
       "    }\n",
       "\n",
       "    .dataframe thead th {\n",
       "        text-align: right;\n",
       "    }\n",
       "</style>\n",
       "<table border=\"1\" class=\"dataframe\">\n",
       "  <thead>\n",
       "    <tr style=\"text-align: right;\">\n",
       "      <th></th>\n",
       "      <th>Title</th>\n",
       "      <th>Length</th>\n",
       "      <th>Date</th>\n",
       "      <th>Source</th>\n",
       "      <th>Content</th>\n",
       "      <th>Author</th>\n",
       "      <th>setfit_preds</th>\n",
       "    </tr>\n",
       "  </thead>\n",
       "  <tbody>\n",
       "    <tr>\n",
       "      <th>0</th>\n",
       "      <td>KOMMENTAR; Öffnet jetzt für Geimpfte!</td>\n",
       "      <td>9</td>\n",
       "      <td>2021-04-06</td>\n",
       "      <td>BILD</td>\n",
       "      <td>Der Lockdown muss für Geimpfte enden. Und zwar...</td>\n",
       "      <td>Willi Haentjes</td>\n",
       "      <td>0</td>\n",
       "    </tr>\n",
       "    <tr>\n",
       "      <th>1</th>\n",
       "      <td>KOMMENTAR; Öffnet jetzt für Geimpfte!</td>\n",
       "      <td>25</td>\n",
       "      <td>2021-04-06</td>\n",
       "      <td>BILD</td>\n",
       "      <td>Wer die zwei schützenden Pikse bekommen hat, s...</td>\n",
       "      <td>Willi Haentjes</td>\n",
       "      <td>0</td>\n",
       "    </tr>\n",
       "    <tr>\n",
       "      <th>2</th>\n",
       "      <td>KOMMENTAR; Öffnet jetzt für Geimpfte!</td>\n",
       "      <td>16</td>\n",
       "      <td>2021-04-06</td>\n",
       "      <td>BILD</td>\n",
       "      <td>Deshalb hat der Staat kein Recht, die Freiheit...</td>\n",
       "      <td>Willi Haentjes</td>\n",
       "      <td>1</td>\n",
       "    </tr>\n",
       "    <tr>\n",
       "      <th>3</th>\n",
       "      <td>KOMMENTAR; Öffnet jetzt für Geimpfte!</td>\n",
       "      <td>19</td>\n",
       "      <td>2021-04-06</td>\n",
       "      <td>BILD</td>\n",
       "      <td>Seit einem Jahr fordert die Regierung von uns ...</td>\n",
       "      <td>Willi Haentjes</td>\n",
       "      <td>0</td>\n",
       "    </tr>\n",
       "    <tr>\n",
       "      <th>4</th>\n",
       "      <td>KOMMENTAR; Öffnet jetzt für Geimpfte!</td>\n",
       "      <td>13</td>\n",
       "      <td>2021-04-06</td>\n",
       "      <td>BILD</td>\n",
       "      <td>Jetzt ist auch eine neue Form der Solidarität ...</td>\n",
       "      <td>Willi Haentjes</td>\n",
       "      <td>1</td>\n",
       "    </tr>\n",
       "  </tbody>\n",
       "</table>\n",
       "</div>"
      ],
      "text/plain": [
       "                                   Title  Length        Date Source  \\\n",
       "0  KOMMENTAR; Öffnet jetzt für Geimpfte!       9  2021-04-06   BILD   \n",
       "1  KOMMENTAR; Öffnet jetzt für Geimpfte!      25  2021-04-06   BILD   \n",
       "2  KOMMENTAR; Öffnet jetzt für Geimpfte!      16  2021-04-06   BILD   \n",
       "3  KOMMENTAR; Öffnet jetzt für Geimpfte!      19  2021-04-06   BILD   \n",
       "4  KOMMENTAR; Öffnet jetzt für Geimpfte!      13  2021-04-06   BILD   \n",
       "\n",
       "                                             Content          Author  \\\n",
       "0  Der Lockdown muss für Geimpfte enden. Und zwar...  Willi Haentjes   \n",
       "1  Wer die zwei schützenden Pikse bekommen hat, s...  Willi Haentjes   \n",
       "2  Deshalb hat der Staat kein Recht, die Freiheit...  Willi Haentjes   \n",
       "3  Seit einem Jahr fordert die Regierung von uns ...  Willi Haentjes   \n",
       "4  Jetzt ist auch eine neue Form der Solidarität ...  Willi Haentjes   \n",
       "\n",
       "   setfit_preds  \n",
       "0             0  \n",
       "1             0  \n",
       "2             1  \n",
       "3             0  \n",
       "4             1  "
      ]
     },
     "execution_count": 6,
     "metadata": {},
     "output_type": "execute_result"
    }
   ],
   "source": [
    "gc_news = pd.read_csv(\"../../data/gcnews/gc_news_unlabeled.csv\")\n",
    "gc_news[\"SetFit_Labels\"] = -1\n",
    "gc_news.head()"
   ]
  },
  {
   "cell_type": "code",
   "execution_count": null,
   "id": "ecadac5f",
   "metadata": {},
   "outputs": [],
   "source": [
    "for i in gc_news.index:\n",
    "    gc_news.loc[i, 'SetFit_Labels'] = int(model([par_data.Content[i]]))\n",
    "    if not i % 1000:\n",
    "        print(\"Sample %d / %d processed\" % (i, len(par_texts)))"
   ]
  },
  {
   "cell_type": "markdown",
   "id": "5dde7cd6",
   "metadata": {},
   "source": [
    "Uncomment to export labeled data:"
   ]
  },
  {
   "cell_type": "code",
   "execution_count": null,
   "id": "d12c1fc1",
   "metadata": {},
   "outputs": [],
   "source": [
    "# gc_news.to_csv(\"gc_news_w2v_labels.csv\", index=False)"
   ]
  }
 ],
 "metadata": {
  "kernelspec": {
   "display_name": "Python 3 (ipykernel)",
   "language": "python",
   "name": "python3"
  },
  "language_info": {
   "codemirror_mode": {
    "name": "ipython",
    "version": 3
   },
   "file_extension": ".py",
   "mimetype": "text/x-python",
   "name": "python",
   "nbconvert_exporter": "python",
   "pygments_lexer": "ipython3",
   "version": "3.9.18"
  }
 },
 "nbformat": 4,
 "nbformat_minor": 5
}
